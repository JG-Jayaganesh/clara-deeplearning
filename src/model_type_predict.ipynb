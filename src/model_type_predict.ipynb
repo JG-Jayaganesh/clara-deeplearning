{
 "cells": [
  {
   "cell_type": "code",
   "execution_count": 4,
   "metadata": {
    "collapsed": false
   },
   "outputs": [
    {
     "name": "stdout",
     "output_type": "stream",
     "text": [
      "\n",
      "Program to predict Mercedes Benz vehicle model using various features from Clara \n",
      "\n",
      "\n",
      "Loaded model from disk\n"
     ]
    }
   ],
   "source": [
    "#!/usr/bin/python\n",
    "# -*- coding: utf-8 -*-\n",
    "\n",
    "\"\"\"\n",
    "Program to predict Mercedes Benz vehicle model using various features from Clara \n",
    "\n",
    "\"\"\"\n",
    "\n",
    "# import libraries\n",
    "\n",
    "# python version libraries\n",
    "from __future__ import absolute_import\n",
    "from __future__ import division\n",
    "from __future__ import print_function\n",
    "\n",
    "# data processing & array handling libraries \n",
    "import numpy as np\n",
    "import pandas as pd\n",
    "\n",
    "# deep learning libraries (backend - Theano)\n",
    "from keras.models import Sequential\n",
    "from keras.layers import Dense, Dropout, Activation\n",
    "from keras.wrappers.scikit_learn import KerasClassifier\n",
    "from keras.utils import np_utils\n",
    "from keras.models import model_from_json\n",
    "\n",
    "print(__doc__)\n",
    "\n",
    "# set path\n",
    "path = '/home/azureuser/clara-deeplearning/data/'\n",
    "model_path = path + 'models/'\n",
    "\n",
    "# load json and create model\n",
    "json_file = open(model_path + 'model_type.json', 'r')\n",
    "loaded_model_json = json_file.read()\n",
    "json_file.close()\n",
    "loaded_model = model_from_json(loaded_model_json)\n",
    "\n",
    "# load weights into new model\n",
    "loaded_model.load_weights(model_path + \"model_type.hdf5\")"
   ]
  },
  {
   "cell_type": "code",
   "execution_count": null,
   "metadata": {
    "collapsed": true
   },
   "outputs": [],
   "source": []
  }
 ],
 "metadata": {
  "kernelspec": {
   "display_name": "Python 3",
   "language": "python",
   "name": "python3"
  },
  "language_info": {
   "codemirror_mode": {
    "name": "ipython",
    "version": 3
   },
   "file_extension": ".py",
   "mimetype": "text/x-python",
   "name": "python",
   "nbconvert_exporter": "python",
   "pygments_lexer": "ipython3",
   "version": "3.6.0"
  }
 },
 "nbformat": 4,
 "nbformat_minor": 2
}

{
 "cells": [
  {
   "cell_type": "markdown",
   "metadata": {},
   "source": [
    "# Entity Extraction using IBM Watson Corpus\n",
    "\n",
    "Assign libraries \n",
    "\n",
    "Uses Watson Natural language understanding for Entity Extraction, pandas for data cleaning  "
   ]
  },
  {
   "cell_type": "markdown",
   "metadata": {
    "collapsed": false
   },
   "source": [
    "#### Import libraries"
   ]
  },
  {
   "cell_type": "code",
   "execution_count": 1,
   "metadata": {
    "collapsed": false
   },
   "outputs": [
    {
     "name": "stderr",
     "output_type": "stream",
     "text": [
      "C:\\Users\\ssaha3237\\AppData\\Local\\Continuum\\Anaconda2\\lib\\site-packages\\gensim\\utils.py:855: UserWarning: detected Windows; aliasing chunkize to chunkize_serial\n",
      "  warnings.warn(\"detected Windows; aliasing chunkize to chunkize_serial\")\n"
     ]
    }
   ],
   "source": [
    "import watson_developer_cloud\n",
    "import watson_developer_cloud.natural_language_understanding.features.v1 as features\n",
    "from watson_developer_cloud import ConversationV1\n",
    "import pandas as pd\n",
    "import gensim\n",
    "import json"
   ]
  },
  {
   "cell_type": "markdown",
   "metadata": {},
   "source": [
    "#### Creating Dictionary for Indents used in IBM Watson Conversation API "
   ]
  },
  {
   "cell_type": "markdown",
   "metadata": {},
   "source": [
    "#### Creates a connection between Conversation API and python code and get all the Indents in the workspace"
   ]
  },
  {
   "cell_type": "code",
   "execution_count": 2,
   "metadata": {
    "collapsed": true
   },
   "outputs": [],
   "source": [
    "conversation = ConversationV1(\n",
    "  username= \"6128bc95-5e0f-4948-832e-34368882edbd\",\n",
    "  password= \"j8yl15f0m6Wc\",\n",
    "  version= '2017-02-03'\n",
    ")"
   ]
  },
  {
   "cell_type": "code",
   "execution_count": 17,
   "metadata": {
    "collapsed": true
   },
   "outputs": [],
   "source": [
    "def create_Dictionary():\n",
    "    # --- Get all the Indents in the workspace -------------------------------------------------------------------------\n",
    "    response_intent = conversation.request(method='GET',\n",
    "                            url='/v1/workspaces/d29a1fab-4f32-4005-9558-df47eee29cdf/intents/',\n",
    "                            params = {'version': '2017-02-03'})\n",
    "    \n",
    "    json_intent = json.loads(response_intent.text)\n",
    "    \n",
    "    # ---- List all the intents and gets all the sub intents related to that intent -------------------------------------\n",
    "    list_indent = [str(json_intent['intents'][i]['intent']) for i in range(len(json_intent['intents']))]\n",
    "    \n",
    "    # ---- Create the dictionary for all indent -------------------------------------------------------------------------\n",
    "    dictionary = {}\n",
    "    for i in range(len(list_indent)) :\n",
    "        response_supporting_entity = conversation.request(method='GET',\n",
    "                                url='/v1/workspaces/d29a1fab-4f32-4005-9558-df47eee29cdf/intents/'+list_indent[i]+'/examples',\n",
    "                                params = {'version': '2017-02-03'})\n",
    "\n",
    "        json_supporting_entity = json.loads(response_supporting_entity.text)\n",
    "\n",
    "        list_supporting_entity = [str(json_supporting_entity['examples'][j]['text']) for j in range(len(json_supporting_entity['examples']))]\n",
    "        dictionary[list_indent[i]] = list_supporting_entity\n",
    "        \n",
    "    return dictionary"
   ]
  },
  {
   "cell_type": "markdown",
   "metadata": {},
   "source": [
    "#### Getting indents and Entities from IBM watson and  calling the \"create_Dictionary\" function "
   ]
  },
  {
   "cell_type": "code",
   "execution_count": 4,
   "metadata": {
    "collapsed": false
   },
   "outputs": [
    {
     "data": {
      "text/plain": [
       "{'goodbye': ['Bye',\n",
       "  'Farewell',\n",
       "  'Goodbye',\n",
       "  'I am leaving.',\n",
       "  \"I'm leaving\",\n",
       "  'Sayonara',\n",
       "  'See you later'],\n",
       " 'hello': ['good morning',\n",
       "  'greetings',\n",
       "  'hello',\n",
       "  'hi',\n",
       "  'howdy',\n",
       "  'I am here',\n",
       "  'I have arrived'],\n",
       " 'time': ['Give me the time.',\n",
       "  'Is it late?',\n",
       "  'Tell me the hour of the day.',\n",
       "  'What is the current time?',\n",
       "  'What time is it?',\n",
       "  'What time of day is it']}"
      ]
     },
     "execution_count": 4,
     "metadata": {},
     "output_type": "execute_result"
    }
   ],
   "source": [
    "dictionary = create_Dictionary()\n",
    "dictionary"
   ]
  },
  {
   "cell_type": "markdown",
   "metadata": {},
   "source": [
    "#### Call Watson using username and password provided by IBM Watson services "
   ]
  },
  {
   "cell_type": "code",
   "execution_count": 5,
   "metadata": {
    "collapsed": false
   },
   "outputs": [],
   "source": [
    "nlu = watson_developer_cloud.NaturalLanguageUnderstandingV1(version='2017-02-27',\n",
    "                                                            username='378d2ad7-9322-4e44-8b65-3b1e9fa19a81',\n",
    "                                                            password='wPtkALoy6iJN')"
   ]
  },
  {
   "cell_type": "markdown",
   "metadata": {},
   "source": [
    "#### Class for Analysing Questions.\n",
    "##### 1. Create dataframe with existing entities and indents\n",
    "##### 2. Create dataframe with new entities and  indents"
   ]
  },
  {
   "cell_type": "code",
   "execution_count": 21,
   "metadata": {
    "collapsed": false
   },
   "outputs": [],
   "source": [
    "class AnalysisQustion(object):\n",
    "    \n",
    "    def __init__(self):\n",
    "        self.df_entity_indent = pd.DataFrame()\n",
    "        self.model = gensim.models.KeyedVectors.load_word2vec_format('D:/Altimetrik files/CLARA/Entity Extraction/GoogleNews-vectors-negative300.bin',\n",
    "                                                                     binary=True)        \n",
    "        self.df_new_entity_indent = pd.DataFrame()\n",
    "     \n",
    "    \n",
    "    # ------------------ Create DataFrame with existing Indents and Entities ---------------------\n",
    "    def create_df(self, text):\n",
    "        response = nlu.analyze(text=text.lower(),\n",
    "                               features=[features.Entities(), features.Keywords()])\n",
    "        row = -1\n",
    "        \n",
    "        for entities in response[\"entities\"]:\n",
    "            row = row + 1\n",
    "            self.df_entity_indent.loc[row, \"mode\"] = \"entities\" \n",
    "            self.df_entity_indent.loc[row, \"relevance\"] = entities[\"relevance\"] \n",
    "            self.df_entity_indent.loc[row, \"text\"] = entities[\"text\"].strip()\n",
    "            self.df_entity_indent.loc[row, \"type\"] = entities[\"type\"].strip()\n",
    "            self.df_entity_indent.loc[row, \"count\"] = entities[\"count\"]\n",
    "\n",
    "        for keywords in response[\"keywords\"]:\n",
    "            row = row + 1\n",
    "            self.df_entity_indent.loc[row, \"mode\"] = \"indents\"\n",
    "            self.df_entity_indent.loc[row, \"relevance\"] = keywords[\"relevance\"] \n",
    "            self.df_entity_indent.loc[row, \"text\"] = keywords[\"text\"].strip()\n",
    "            self.df_entity_indent.loc[row, \"type\"] = ''\n",
    "            self.df_entity_indent.loc[row, \"count\"] = 0\n",
    "            \n",
    "        # ---------- Sort dataframe by Type (Entity type provided by IBM Watson) ----------------\n",
    "        self.df_entity_indent.sort_values(['type'], ascending=[True])\n",
    "        \n",
    "        # ---------- Drop duplicates by Text ----------------------------------------------------\n",
    "        self.df_entity_indent.drop_duplicates(subset=['text'], keep='first')\n",
    "        \n",
    "        \n",
    "    # ----------------------- Search value in dictionary ----------------------------------------\n",
    "    def search(self,values, searchFor):\n",
    "        for k in values:\n",
    "            for v in values[k]:\n",
    "                if searchFor in v:\n",
    "                    return k\n",
    "        return None\n",
    "    \n",
    "    \n",
    "    # ----------------------- Create DataFrame with new Indents and Entities ---------------------\n",
    "    def Create_New_Indents_Entities(self, dict_indent):\n",
    "        df = self.df_entity_indent\n",
    "        row = 0\n",
    "        df_row = 0\n",
    "        \n",
    "        for row in xrange(len(df)):\n",
    "            if df.loc[row,'mode'] == 'indents' :\n",
    "                indent = df.loc[row,'text']\n",
    "                index = self.search(dict_indent, indent)\n",
    "\n",
    "                if index == None :\n",
    "                    similar_word = self.model.most_similar(indent, topn=2)\n",
    "                    similar = zip(*similar_word)\n",
    "\n",
    "                    i = 0\n",
    "                    flag = 0\n",
    "\n",
    "                    for i in range(len(similar[0])):\n",
    "                        index = self.search(dict_indent, similar[0][i])\n",
    "                        if index != None :\n",
    "                            self.df_new_entity_indent.loc[df_row, \"mode\"] = \"indents\"\n",
    "                            self.df_new_entity_indent.loc[df_row, \"text\"] = indent \n",
    "                            self.df_new_entity_indent.loc[df_row, \"Similar to\"] = str(dict_indent[index]) \n",
    "                            df_row = df_row + 1\n",
    "                            flag = 1\n",
    "                        i = i + 1\n",
    "\n",
    "                    if flag == 0:\n",
    "                        self.df_new_entity_indent.loc[df_row, \"mode\"] = \"indents\"\n",
    "                        self.df_new_entity_indent.loc[df_row, \"text\"] = indent \n",
    "                        self.df_new_entity_indent.loc[df_row, \"Similar to\"] = \"New Indent\"\n",
    "                        df_row = df_row + 1\n",
    "\n",
    "            elif df.loc[row,'mode'] == \"entities\" :\n",
    "                entity = df.loc[row,'text']\n",
    "                index = self.search(dict_indent, entity)\n",
    "\n",
    "                if index == None :\n",
    "                    similar_word = self.model.most_similar(entity, topn=2)\n",
    "                    similar = zip(*similar_word)\n",
    "                    i = 0\n",
    "                    flag = 0\n",
    "\n",
    "\n",
    "                    for i in range(len(similar[0])):\n",
    "                        index = self.search(dict_indent, similar[0][i])\n",
    "                        if index != None :\n",
    "                            self.df_new_entity_indent.loc[df_row, \"mode\"] = \"entities\"\n",
    "                            self.df_new_entity_indent.loc[df_row, \"text\"] = entity \n",
    "                            self.df_new_entity_indent.loc[df_row, \"Similar to\"] = str(dict_indent[index]) \n",
    "                            df_row = df_row + 1\n",
    "                            flag = 1\n",
    "                        i = i + 1\n",
    "\n",
    "                    if flag == 0:\n",
    "                        self.df_new_entity_indent.loc[df_row, \"mode\"] = \"entities\"\n",
    "                        self.df_new_entity_indent.loc[df_row, \"text\"] = entity \n",
    "                        self.df_new_entity_indent.loc[df_row, \"Similar to\"] = \"New Indent\"\n",
    "                        df_row = df_row + 1\n",
    "            row = row + 1"
   ]
  },
  {
   "cell_type": "markdown",
   "metadata": {},
   "source": [
    "#### Analyze Questions through Watson "
   ]
  },
  {
   "cell_type": "code",
   "execution_count": 14,
   "metadata": {
    "collapsed": false
   },
   "outputs": [
    {
     "data": {
      "text/html": [
       "<div>\n",
       "<table border=\"1\" class=\"dataframe\">\n",
       "  <thead>\n",
       "    <tr style=\"text-align: right;\">\n",
       "      <th></th>\n",
       "      <th>mode</th>\n",
       "      <th>relevance</th>\n",
       "      <th>text</th>\n",
       "      <th>type</th>\n",
       "      <th>count</th>\n",
       "    </tr>\n",
       "  </thead>\n",
       "  <tbody>\n",
       "    <tr>\n",
       "      <th>0</th>\n",
       "      <td>entities</td>\n",
       "      <td>0.330000</td>\n",
       "      <td>clara</td>\n",
       "      <td>Person</td>\n",
       "      <td>1.0</td>\n",
       "    </tr>\n",
       "    <tr>\n",
       "      <th>1</th>\n",
       "      <td>indents</td>\n",
       "      <td>0.995738</td>\n",
       "      <td>clara</td>\n",
       "      <td></td>\n",
       "      <td>0.0</td>\n",
       "    </tr>\n",
       "    <tr>\n",
       "      <th>2</th>\n",
       "      <td>indents</td>\n",
       "      <td>0.639074</td>\n",
       "      <td>car</td>\n",
       "      <td></td>\n",
       "      <td>0.0</td>\n",
       "    </tr>\n",
       "  </tbody>\n",
       "</table>\n",
       "</div>"
      ],
      "text/plain": [
       "       mode  relevance   text    type  count\n",
       "0  entities   0.330000  clara  Person    1.0\n",
       "1   indents   0.995738  clara            0.0\n",
       "2   indents   0.639074    car            0.0"
      ]
     },
     "execution_count": 14,
     "metadata": {},
     "output_type": "execute_result"
    }
   ],
   "source": [
    "AnalysisQustion = AnalysisQustion()\n",
    "AnalysisQustion.create_df('Clara, Which car should i buy?')\n",
    "AnalysisQustion.df_entity_indent"
   ]
  },
  {
   "cell_type": "code",
   "execution_count": 15,
   "metadata": {
    "collapsed": false
   },
   "outputs": [
    {
     "data": {
      "text/html": [
       "<div>\n",
       "<table border=\"1\" class=\"dataframe\">\n",
       "  <thead>\n",
       "    <tr style=\"text-align: right;\">\n",
       "      <th></th>\n",
       "      <th>mode</th>\n",
       "      <th>text</th>\n",
       "      <th>Similar to</th>\n",
       "    </tr>\n",
       "  </thead>\n",
       "  <tbody>\n",
       "    <tr>\n",
       "      <th>0</th>\n",
       "      <td>entities</td>\n",
       "      <td>clara</td>\n",
       "      <td>New Indent</td>\n",
       "    </tr>\n",
       "    <tr>\n",
       "      <th>1</th>\n",
       "      <td>indents</td>\n",
       "      <td>clara</td>\n",
       "      <td>New Indent</td>\n",
       "    </tr>\n",
       "    <tr>\n",
       "      <th>2</th>\n",
       "      <td>indents</td>\n",
       "      <td>car</td>\n",
       "      <td>New Indent</td>\n",
       "    </tr>\n",
       "  </tbody>\n",
       "</table>\n",
       "</div>"
      ],
      "text/plain": [
       "       mode   text  Similar to\n",
       "0  entities  clara  New Indent\n",
       "1   indents  clara  New Indent\n",
       "2   indents    car  New Indent"
      ]
     },
     "execution_count": 15,
     "metadata": {},
     "output_type": "execute_result"
    }
   ],
   "source": [
    "AnalysisQustion.Create_New_Indents_Entities(dictionary)\n",
    "AnalysisQustion.df_new_entity_indent"
   ]
  },
  {
   "cell_type": "code",
   "execution_count": null,
   "metadata": {
    "collapsed": false
   },
   "outputs": [],
   "source": []
  }
 ],
 "metadata": {
  "kernelspec": {
   "display_name": "Python 2",
   "language": "python",
   "name": "python2"
  },
  "language_info": {
   "codemirror_mode": {
    "name": "ipython",
    "version": 2
   },
   "file_extension": ".py",
   "mimetype": "text/x-python",
   "name": "python",
   "nbconvert_exporter": "python",
   "pygments_lexer": "ipython2",
   "version": "2.7.13"
  }
 },
 "nbformat": 4,
 "nbformat_minor": 2
}
